{
 "cells": [
  {
   "cell_type": "markdown",
   "id": "2cb9d180",
   "metadata": {},
   "source": [
    "# assignment 2 performing certain operations on the given two arrays \n",
    "\n"
   ]
  },
  {
   "cell_type": "markdown",
   "id": "ea48c4a6",
   "metadata": {},
   "source": [
    "# extract the elements of A1 from index 2 to 5 "
   ]
  },
  {
   "cell_type": "code",
   "execution_count": 26,
   "id": "fe5b20af",
   "metadata": {},
   "outputs": [
    {
     "name": "stdout",
     "output_type": "stream",
     "text": [
      "[22, 44, 66]\n"
     ]
    }
   ],
   "source": [
    "a1=[11,33,22,44,66,55]\n",
    "a2=[10,30,20,40,60,50]\n",
    "print(a1[2:5])"
   ]
  },
  {
   "cell_type": "markdown",
   "id": "ff38f04f",
   "metadata": {},
   "source": [
    "# Reshaping the array a1 to 3,2 size "
   ]
  },
  {
   "cell_type": "code",
   "execution_count": 18,
   "id": "ca9159a8",
   "metadata": {},
   "outputs": [
    {
     "data": {
      "text/plain": [
       "array([[11, 33],\n",
       "       [22, 44],\n",
       "       [66, 55]])"
      ]
     },
     "execution_count": 18,
     "metadata": {},
     "output_type": "execute_result"
    }
   ],
   "source": [
    "import numpy as np \n",
    "np.reshape(a1,(3,2), order='C')  "
   ]
  },
  {
   "cell_type": "markdown",
   "id": "f266cdca",
   "metadata": {},
   "source": [
    "# joining the two arrays "
   ]
  },
  {
   "cell_type": "code",
   "execution_count": 19,
   "id": "64275e9f",
   "metadata": {},
   "outputs": [
    {
     "name": "stdout",
     "output_type": "stream",
     "text": [
      "[11 33 22 44 66 55 10 30 20 40 60 50]\n"
     ]
    }
   ],
   "source": [
    "import numpy as np \n",
    "arr = np.concatenate((a1, a2))\n",
    "print(arr)"
   ]
  },
  {
   "cell_type": "markdown",
   "id": "58c4ccaf",
   "metadata": {},
   "source": [
    "#    # split the array a1 into 3 arrays "
   ]
  },
  {
   "cell_type": "code",
   "execution_count": 20,
   "id": "dafe01fa",
   "metadata": {},
   "outputs": [
    {
     "name": "stdout",
     "output_type": "stream",
     "text": [
      "[array([11, 33]), array([22, 44]), array([66, 55])]\n"
     ]
    }
   ],
   "source": [
    "import numpy as np\n",
    "newarr = np.array_split(a1, 3)\n",
    "print(newarr)"
   ]
  },
  {
   "cell_type": "markdown",
   "id": "04799503",
   "metadata": {},
   "source": [
    "# searching for 44 element in the array a1"
   ]
  },
  {
   "cell_type": "code",
   "execution_count": 21,
   "id": "e1b921a6",
   "metadata": {},
   "outputs": [
    {
     "name": "stdout",
     "output_type": "stream",
     "text": [
      "FOUND!\n"
     ]
    }
   ],
   "source": [
    "c=0\n",
    "for j in range(6):\n",
    "    if a1[j] == 44:\n",
    "        print(\"FOUND!\")\n",
    "        c+= 1\n",
    "        break\n",
    "if(c!=1):\n",
    "    print(\"NOT FOUND!\")"
   ]
  },
  {
   "cell_type": "markdown",
   "id": "c2afefa5",
   "metadata": {},
   "source": [
    "# finding all the even elements in array a1 "
   ]
  },
  {
   "cell_type": "code",
   "execution_count": 23,
   "id": "c43d28dc",
   "metadata": {},
   "outputs": [
    {
     "name": "stdout",
     "output_type": "stream",
     "text": [
      "22 44 66 "
     ]
    }
   ],
   "source": [
    "for num in a1:\n",
    "    if num % 2 == 0:\n",
    "        print(num, end=\" \")"
   ]
  },
  {
   "cell_type": "markdown",
   "id": "a4453236",
   "metadata": {},
   "source": [
    "# sort the elements in the array a2"
   ]
  },
  {
   "cell_type": "code",
   "execution_count": 24,
   "id": "346967e7",
   "metadata": {},
   "outputs": [
    {
     "name": "stdout",
     "output_type": "stream",
     "text": [
      "Sorted array: [10, 20, 30, 40, 50, 60]\n"
     ]
    }
   ],
   "source": [
    "def sort_array(arr):\n",
    "    arr.sort()\n",
    "    return arr\n",
    "sorted_array = sort_array(a2)\n",
    "print(\"Sorted array:\", sorted_array)"
   ]
  },
  {
   "cell_type": "markdown",
   "id": "96de6eb1",
   "metadata": {},
   "source": [
    "# filter the odd numbers in the array a1 using the filter option "
   ]
  },
  {
   "cell_type": "code",
   "execution_count": 25,
   "id": "00a33fff",
   "metadata": {},
   "outputs": [
    {
     "name": "stdout",
     "output_type": "stream",
     "text": [
      "Odd numbers in the array: [11, 33, 55]\n"
     ]
    }
   ],
   "source": [
    "def filter_odd_numbers(arr):\n",
    "    odd_numbers=list(filter(lambda x: x % 2 != 0, arr))\n",
    "    return odd_numbers\n",
    "odd_nums = filter_odd_numbers(a1)\n",
    "print(\"Odd numbers in the array:\", odd_nums)"
   ]
  },
  {
   "cell_type": "code",
   "execution_count": null,
   "id": "e91264dd",
   "metadata": {},
   "outputs": [],
   "source": []
  }
 ],
 "metadata": {
  "kernelspec": {
   "display_name": "Python 3 (ipykernel)",
   "language": "python",
   "name": "python3"
  },
  "language_info": {
   "codemirror_mode": {
    "name": "ipython",
    "version": 3
   },
   "file_extension": ".py",
   "mimetype": "text/x-python",
   "name": "python",
   "nbconvert_exporter": "python",
   "pygments_lexer": "ipython3",
   "version": "3.9.13"
  }
 },
 "nbformat": 4,
 "nbformat_minor": 5
}
